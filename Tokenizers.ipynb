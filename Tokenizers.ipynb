{
 "cells": [
  {
   "cell_type": "code",
   "execution_count": 95,
   "id": "7ac9d7b2",
   "metadata": {},
   "outputs": [
    {
     "name": "stdout",
     "output_type": "stream",
     "text": [
      "Musk: 5\n",
      "SpaceX: 5\n",
      "prototype: 5\n",
      "Starship: 4\n",
      "development: 4\n",
      "testing: 3\n",
      "test: 3\n",
      "flight: 3\n",
      "nosecone: 3\n",
      "altitude: 3\n"
     ]
    }
   ],
   "source": [
    "from nltk import RegexpTokenizer\n",
    "from nltk.corpus import stopwords\n",
    "from nltk.stem import WordNetLemmatizer\n",
    "\n",
    "def readFile(filename):\n",
    "    file=open(r'C:\\Users\\marko\\OneDrive\\Documents\\St Rose\\Data Mining\\starshipSN8News.txt', encoding='utf-8')\n",
    "    text=file.read()\n",
    "    file.close()\n",
    "    return text\n",
    "\n",
    "def get_tokens(text):\n",
    "    stop_words = set(stopwords.words('english'))\n",
    "    tokenizer = RegexpTokenizer(r\"\\w+\")\n",
    "    tokens = tokenizer.tokenize(text)\n",
    "    filtered_tokens = []\n",
    "    for w in tokens:\n",
    "        if w not in stop_words:\n",
    "            filtered_tokens.append(w)\n",
    "    return filtered_tokens\n",
    "\n",
    "def createDictionary(wordList):\n",
    "    lemmatizer = WordNetLemmatizer()\n",
    "    dict1={}\n",
    "    for word in wordList:\n",
    "        word=lemmatizer.lemmatize(word)\n",
    "        if word not in dict1.keys():\n",
    "            dict1[word]=1\n",
    "        else:\n",
    "            dict1[word]+=1\n",
    "    return dict1\n",
    "\n",
    "def topWordCounts(dictionary):\n",
    "    return dict(sorted(dictionary.items(), key=lambda item: item[1],reverse=True))\n",
    "\n",
    "data=readFile('starshipSN8News.txt')\n",
    "tokens=get_tokens(data)\n",
    "Dict=createDictionary(tokens)\n",
    "top_dict=topWordCounts(Dict)\n",
    "top_dict_keys=list(top_dict.keys())\n",
    "for i in range(10):\n",
    "    print(f'{top_dict_keys[i]}: {top_dict[top_dict_keys[i]]}')"
   ]
  },
  {
   "cell_type": "code",
   "execution_count": null,
   "id": "516b3061",
   "metadata": {},
   "outputs": [],
   "source": []
  },
  {
   "cell_type": "code",
   "execution_count": null,
   "id": "a69db5cf",
   "metadata": {},
   "outputs": [],
   "source": []
  }
 ],
 "metadata": {
  "kernelspec": {
   "display_name": "Python 3 (ipykernel)",
   "language": "python",
   "name": "python3"
  },
  "language_info": {
   "codemirror_mode": {
    "name": "ipython",
    "version": 3
   },
   "file_extension": ".py",
   "mimetype": "text/x-python",
   "name": "python",
   "nbconvert_exporter": "python",
   "pygments_lexer": "ipython3",
   "version": "3.8.10"
  }
 },
 "nbformat": 4,
 "nbformat_minor": 5
}
