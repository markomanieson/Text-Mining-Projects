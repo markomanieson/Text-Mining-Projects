{
 "cells": [
  {
   "cell_type": "code",
   "execution_count": null,
   "id": "f55c80c8",
   "metadata": {},
   "outputs": [],
   "source": [
    "#1. Write a Python program to check that a string contains only a certain set of characters (in this case a-z, A-Z and 0-9).\n",
    "import re\n",
    "a_string = input('Input String: ')\n",
    "p = re.compile('[^0-9A-Za-z ]+')\n",
    "m = p.search(a_string)\n",
    "if m:\n",
    "    print(\"No Match\")\n",
    "else:\n",
    "    print(\"Match\")\n"
   ]
  },
  {
   "cell_type": "code",
   "execution_count": null,
   "id": "698a5581",
   "metadata": {},
   "outputs": [],
   "source": [
    "#2. Write a Python code that matches a string that has an x followed by four 'y'.\n",
    "import re\n",
    "a_string = input('Input string ')\n",
    "p = re.compile('xy{4}?')\n",
    "m = p.search(a_string)\n",
    "if m:\n",
    "    print('Match')\n",
    "else:\n",
    "    print('No Match')"
   ]
  },
  {
   "cell_type": "code",
   "execution_count": null,
   "id": "ef0a6470",
   "metadata": {},
   "outputs": [],
   "source": [
    "#3. Write a Python code that matches a string that has an x followed by two to three 'y'.\n",
    "import re\n",
    "a_string = input('Input string ')\n",
    "p = re.compile('xy{2,3}?')\n",
    "m = p.search(a_string)\n",
    "if m:\n",
    "    print('Match')\n",
    "else:\n",
    "    print('No Match')"
   ]
  },
  {
   "cell_type": "code",
   "execution_count": null,
   "id": "45783899",
   "metadata": {},
   "outputs": [],
   "source": [
    "#4. Write a Python code that matches a word containing 't'.\n",
    "import re\n",
    "a_string = input('Input string ')\n",
    "m = re.search('\\w*t\\w*', a_string)\n",
    "if m:\n",
    "    print('Match')\n",
    "else:\n",
    "    print('No Match')"
   ]
  },
  {
   "cell_type": "code",
   "execution_count": null,
   "id": "006d5d43",
   "metadata": {},
   "outputs": [],
   "source": [
    "#5. Write a Python program where a string will start with the numbers 1, 2 or 3\n",
    "import re\n",
    "my_string = input('enter a string ')\n",
    "m = re.search('^[1,2,3]', my_string)\n",
    "if m:\n",
    "    print('True')\n",
    "else:\n",
    "    print('False')"
   ]
  },
  {
   "cell_type": "code",
   "execution_count": null,
   "id": "6f2ee641",
   "metadata": {},
   "outputs": [],
   "source": []
  }
 ],
 "metadata": {
  "kernelspec": {
   "display_name": "Python 3 (ipykernel)",
   "language": "python",
   "name": "python3"
  },
  "language_info": {
   "codemirror_mode": {
    "name": "ipython",
    "version": 3
   },
   "file_extension": ".py",
   "mimetype": "text/x-python",
   "name": "python",
   "nbconvert_exporter": "python",
   "pygments_lexer": "ipython3",
   "version": "3.8.10"
  }
 },
 "nbformat": 4,
 "nbformat_minor": 5
}
